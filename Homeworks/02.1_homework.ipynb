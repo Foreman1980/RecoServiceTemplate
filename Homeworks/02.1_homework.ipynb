{
 "cells": [
  {
   "cell_type": "code",
   "execution_count": 1,
   "id": "8ee98593",
   "metadata": {},
   "outputs": [],
   "source": [
    "import numpy as np\n",
    "import pandas as pd\n",
    "\n",
    "from rectools import Columns"
   ]
  },
  {
   "cell_type": "markdown",
   "id": "c3920175",
   "metadata": {},
   "source": [
    "Промежуточная задача - преобразовать данные в pandas.DataFrame вида {user, item, order}, где order - порядковый номер с конца (0 - самый \"свежий\" лайк, чем больше order, тем позже был поставлен лайк)\n",
    "\n",
    "**Итоговая задача** - построить схему валидации для данного соревнования с учетом особенностей сорвенования\n",
    "- Между `train` и `test` не должно быть общих пользователей\n",
    "- Количество фолдов задается через параметр класса `n_folds`\n",
    "- В `test` должно быть не более `p` последних треков (параметр класса `p`)"
   ]
  },
  {
   "cell_type": "code",
   "execution_count": 2,
   "id": "79892fd2",
   "metadata": {},
   "outputs": [
    {
     "data": {
      "text/html": [
       "<div>\n",
       "<style scoped>\n",
       "    .dataframe tbody tr th:only-of-type {\n",
       "        vertical-align: middle;\n",
       "    }\n",
       "\n",
       "    .dataframe tbody tr th {\n",
       "        vertical-align: top;\n",
       "    }\n",
       "\n",
       "    .dataframe thead th {\n",
       "        text-align: right;\n",
       "    }\n",
       "</style>\n",
       "<table border=\"1\" class=\"dataframe\">\n",
       "  <thead>\n",
       "    <tr style=\"text-align: right;\">\n",
       "      <th></th>\n",
       "      <th>user_id</th>\n",
       "      <th>item_id</th>\n",
       "      <th>order</th>\n",
       "    </tr>\n",
       "  </thead>\n",
       "  <tbody>\n",
       "    <tr>\n",
       "      <th>0</th>\n",
       "      <td>0</td>\n",
       "      <td>388242</td>\n",
       "      <td>1</td>\n",
       "    </tr>\n",
       "    <tr>\n",
       "      <th>1</th>\n",
       "      <td>0</td>\n",
       "      <td>278503</td>\n",
       "      <td>2</td>\n",
       "    </tr>\n",
       "    <tr>\n",
       "      <th>2</th>\n",
       "      <td>0</td>\n",
       "      <td>102795</td>\n",
       "      <td>3</td>\n",
       "    </tr>\n",
       "    <tr>\n",
       "      <th>3</th>\n",
       "      <td>0</td>\n",
       "      <td>470957</td>\n",
       "      <td>4</td>\n",
       "    </tr>\n",
       "    <tr>\n",
       "      <th>4</th>\n",
       "      <td>0</td>\n",
       "      <td>159637</td>\n",
       "      <td>5</td>\n",
       "    </tr>\n",
       "    <tr>\n",
       "      <th>...</th>\n",
       "      <td>...</td>\n",
       "      <td>...</td>\n",
       "      <td>...</td>\n",
       "    </tr>\n",
       "    <tr>\n",
       "      <th>94188629</th>\n",
       "      <td>1160083</td>\n",
       "      <td>19120</td>\n",
       "      <td>252</td>\n",
       "    </tr>\n",
       "    <tr>\n",
       "      <th>94188630</th>\n",
       "      <td>1160083</td>\n",
       "      <td>326821</td>\n",
       "      <td>253</td>\n",
       "    </tr>\n",
       "    <tr>\n",
       "      <th>94188631</th>\n",
       "      <td>1160083</td>\n",
       "      <td>214132</td>\n",
       "      <td>254</td>\n",
       "    </tr>\n",
       "    <tr>\n",
       "      <th>94188632</th>\n",
       "      <td>1160083</td>\n",
       "      <td>352098</td>\n",
       "      <td>255</td>\n",
       "    </tr>\n",
       "    <tr>\n",
       "      <th>94188633</th>\n",
       "      <td>1160083</td>\n",
       "      <td>247274</td>\n",
       "      <td>256</td>\n",
       "    </tr>\n",
       "  </tbody>\n",
       "</table>\n",
       "<p>94188634 rows × 3 columns</p>\n",
       "</div>"
      ],
      "text/plain": [
       "          user_id item_id  order\n",
       "0               0  388242      1\n",
       "1               0  278503      2\n",
       "2               0  102795      3\n",
       "3               0  470957      4\n",
       "4               0  159637      5\n",
       "...           ...     ...    ...\n",
       "94188629  1160083   19120    252\n",
       "94188630  1160083  326821    253\n",
       "94188631  1160083  214132    254\n",
       "94188632  1160083  352098    255\n",
       "94188633  1160083  247274    256\n",
       "\n",
       "[94188634 rows x 3 columns]"
      ]
     },
     "execution_count": 2,
     "metadata": {},
     "output_type": "execute_result"
    }
   ],
   "source": [
    "data = pd.read_csv('../../PycharmProjects/RecSys_DEMO/Source/Yandex/train',\n",
    "                   header=None,\n",
    "                   names=['tracks'])\n",
    "\n",
    "data['tracks'] = data.tracks.apply(lambda x: x.split()[::-1])\n",
    "data = data.explode('tracks').reset_index()\n",
    "\n",
    "data.rename(\n",
    "    columns={\n",
    "        'index': Columns.User,\n",
    "        'tracks': Columns.Item,\n",
    "    },\n",
    "    inplace=True)\n",
    "\n",
    "data['order'] = data.groupby(Columns.User).cumcount() + 1\n",
    "\n",
    "data"
   ]
  },
  {
   "cell_type": "code",
   "execution_count": 3,
   "id": "0c75c4eb",
   "metadata": {},
   "outputs": [],
   "source": [
    "# !mkdir Source\n",
    "# data.to_csv('./Source/dataframe.csv', index=False)"
   ]
  },
  {
   "cell_type": "code",
   "execution_count": 4,
   "id": "917121f2",
   "metadata": {},
   "outputs": [],
   "source": [
    "# data = pd.read_csv('./Source/dataframe.csv')\n",
    "# data.head()"
   ]
  },
  {
   "cell_type": "code",
   "execution_count": 9,
   "id": "e98ffc37",
   "metadata": {
    "ExecuteTime": {
     "end_time": "2022-11-16T13:17:45.251478Z",
     "start_time": "2022-11-16T13:17:45.238476Z"
    }
   },
   "outputs": [],
   "source": [
    "class UsersKFoldPOut():\n",
    "    def __init__(self, n_folds, p, user_column=Columns.User, random_seed=23):\n",
    "        self.n_folds = n_folds\n",
    "        self.user_column = user_column\n",
    "        self.random_seed = random_seed\n",
    "        self.p = p\n",
    "    \n",
    "    def split(self, df):\n",
    "        users = df[self.user_column].unique()\n",
    "        users_count = len(users)\n",
    "        \n",
    "        np.random.seed(self.random_seed)\n",
    "        np.random.shuffle(users)\n",
    "        \n",
    "        fold_sizes = np.full(self.n_folds, users_count // self.n_folds, dtype=int)\n",
    "        fold_sizes[: users_count % self.n_folds] += 1\n",
    "        current = 0\n",
    "        for fold_size in fold_sizes:\n",
    "            start, stop = current, current + fold_size\n",
    "            test_fold_users = users[start:stop]\n",
    "            test_mask = df[self.user_column].isin(test_fold_users)\n",
    "            train_mask = ~test_mask\n",
    "            current = stop\n",
    "            yield train_mask, test_mask & (df.order <= self.p)"
   ]
  },
  {
   "cell_type": "code",
   "execution_count": 10,
   "id": "ef4e74be",
   "metadata": {
    "ExecuteTime": {
     "end_time": "2022-11-16T13:17:45.267474Z",
     "start_time": "2022-11-16T13:17:45.254478Z"
    }
   },
   "outputs": [
    {
     "name": "stdout",
     "output_type": "stream",
     "text": [
      "Fold#0 | Train: 62769950, Test: 386695\n",
      "Пересекающиеся пользователи train и test - []\n",
      "Максимальное количесво треков у пользователей в test = 1\n",
      "Fold#1 | Train: 62749697, Test: 386695\n",
      "Пересекающиеся пользователи train и test - []\n",
      "Максимальное количесво треков у пользователей в test = 1\n",
      "Fold#2 | Train: 62857621, Test: 386694\n",
      "Пересекающиеся пользователи train и test - []\n",
      "Максимальное количесво треков у пользователей в test = 1\n"
     ]
    }
   ],
   "source": [
    "cv = UsersKFoldPOut(n_folds=3, p=1)\n",
    "\n",
    "for i, (train_mask, test_mask) in enumerate(cv.split(data)):\n",
    "    train = data[train_mask]\n",
    "    test = data[test_mask]\n",
    "    print(f'Fold#{i} | Train: {train.shape[0]}, Test: {test.shape[0]}')\n",
    "    print(f'Пересекающиеся пользователи train и test - {np.intersect1d(train.user_id.unique(), test.user_id.unique())}')\n",
    "    print(f'Максимальное количесво треков у пользователей в test = {test.order.max()}')"
   ]
  },
  {
   "cell_type": "code",
   "execution_count": 11,
   "id": "4b63ee7b",
   "metadata": {},
   "outputs": [
    {
     "name": "stdout",
     "output_type": "stream",
     "text": [
      "Fold#0 | Train: 62769950, Test: 773390\n",
      "Пересекающиеся пользователи train и test - []\n",
      "Максимальное количесво треков у пользователей в test = 2\n",
      "Fold#1 | Train: 62749697, Test: 773390\n",
      "Пересекающиеся пользователи train и test - []\n",
      "Максимальное количесво треков у пользователей в test = 2\n",
      "Fold#2 | Train: 62857621, Test: 773388\n",
      "Пересекающиеся пользователи train и test - []\n",
      "Максимальное количесво треков у пользователей в test = 2\n"
     ]
    }
   ],
   "source": [
    "cv = UsersKFoldPOut(n_folds=3, p=2)\n",
    "\n",
    "for i, (train_mask, test_mask) in enumerate(cv.split(data)):\n",
    "    train = data[train_mask]\n",
    "    test = data[test_mask]\n",
    "    print(f'Fold#{i} | Train: {train.shape[0]}, Test: {test.shape[0]}')\n",
    "    print(f'Пересекающиеся пользователи train и test - {np.intersect1d(train.user_id.unique(), test.user_id.unique())}')\n",
    "    print(f'Максимальное количесво треков у пользователей в test = {test.order.max()}')"
   ]
  },
  {
   "cell_type": "code",
   "execution_count": null,
   "id": "01dd7394",
   "metadata": {},
   "outputs": [],
   "source": []
  }
 ],
 "metadata": {
  "kernelspec": {
   "display_name": "Python 3 (ipykernel)",
   "language": "python",
   "name": "python3"
  },
  "language_info": {
   "codemirror_mode": {
    "name": "ipython",
    "version": 3
   },
   "file_extension": ".py",
   "mimetype": "text/x-python",
   "name": "python",
   "nbconvert_exporter": "python",
   "pygments_lexer": "ipython3",
   "version": "3.8.15"
  }
 },
 "nbformat": 4,
 "nbformat_minor": 5
}
